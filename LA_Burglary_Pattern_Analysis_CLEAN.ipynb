{
 "cells": [
  {
   "cell_type": "markdown",
   "id": "ed52e14f",
   "metadata": {},
   "source": [
    "\n",
    "# Burglary Pattern Analysis in Los Angeles (2020–2024)\n",
    "\n",
    "This notebook analyses crime data from Los Angeles, focusing on burglary-related incidents.  \n",
    "We explore trends using Python (pandas, matplotlib) and apply machine learning models to predict burglary case resolution.  \n",
    "This project highlights when and where burglaries most frequently occur and uses ML to assist in public safety decision-making.\n"
   ]
  },
  {
   "cell_type": "code",
   "execution_count": null,
   "id": "c0b1c41c",
   "metadata": {},
   "outputs": [],
   "source": [
    "\n",
    "import pandas as pd\n",
    "import matplotlib.pyplot as plt\n",
    "from sklearn.model_selection import train_test_split\n",
    "from sklearn.linear_model import LogisticRegression\n",
    "from sklearn.ensemble import RandomForestClassifier\n",
    "from sklearn.metrics import classification_report, confusion_matrix\n",
    "import seaborn as sns\n",
    "\n",
    "# Placeholder for loading your dataset\n",
    "# Replace 'your_data.csv' with your actual file\n",
    "df = pd.read_csv(\"data/Crime_Data.csv\")\n",
    "\n",
    "# Preview the dataset\n",
    "df.head()\n"
   ]
  },
  {
   "cell_type": "markdown",
   "id": "11e765a1",
   "metadata": {},
   "source": [
    "\n",
    "## Exploratory Data Analysis\n",
    "\n",
    "We analyse patterns in burglary by time, location, and victim demographics.\n"
   ]
  },
  {
   "cell_type": "code",
   "execution_count": null,
   "id": "e57b4058",
   "metadata": {},
   "outputs": [],
   "source": [
    "\n",
    "# Check for missing values\n",
    "df.isnull().sum()\n",
    "\n",
    "# Visualising crime by hour\n",
    "df['hour'] = pd.to_datetime(df['DATE OCC']).dt.hour\n",
    "hourly_crime = df.groupby('hour').size()\n",
    "\n",
    "plt.figure(figsize=(10, 5))\n",
    "sns.barplot(x=hourly_crime.index, y=hourly_crime.values)\n",
    "plt.title('Burglary Distribution by Hour')\n",
    "plt.xlabel('Hour of Day')\n",
    "plt.ylabel('Number of Burglaries')\n",
    "plt.xticks(rotation=45)\n",
    "plt.tight_layout()\n",
    "plt.show()\n"
   ]
  },
  {
   "cell_type": "markdown",
   "id": "34e03bb6",
   "metadata": {},
   "source": [
    "\n",
    "## Machine Learning: Predicting Case Resolution\n",
    "\n",
    "We use Logistic Regression and Random Forest to predict whether burglary cases were resolved.\n"
   ]
  },
  {
   "cell_type": "code",
   "execution_count": null,
   "id": "05414be9",
   "metadata": {},
   "outputs": [],
   "source": [
    "\n",
    "# Prepare dataset for classification\n",
    "df_model = df[['Vict Age', 'Vict Sex', 'Vict Descent', 'Status']]  # Simplified example\n",
    "df_model = pd.get_dummies(df_model.dropna(), drop_first=True)\n",
    "\n",
    "X = df_model.drop('Status_IC', axis=1)\n",
    "y = df_model['Status_IC']\n",
    "\n",
    "X_train, X_test, y_train, y_test = train_test_split(X, y, test_size=0.3, random_state=42)\n",
    "\n",
    "# Logistic Regression\n",
    "logreg = LogisticRegression(max_iter=1000)\n",
    "logreg.fit(X_train, y_train)\n",
    "y_pred_logreg = logreg.predict(X_test)\n",
    "\n",
    "print(\"Logistic Regression Report:\")\n",
    "print(classification_report(y_test, y_pred_logreg))\n",
    "\n",
    "# Random Forest\n",
    "rf = RandomForestClassifier()\n",
    "rf.fit(X_train, y_train)\n",
    "y_pred_rf = rf.predict(X_test)\n",
    "\n",
    "print(\"Random Forest Report:\")\n",
    "print(classification_report(y_test, y_pred_rf))\n"
   ]
  }
 ],
 "metadata": {},
 "nbformat": 4,
 "nbformat_minor": 5
}
